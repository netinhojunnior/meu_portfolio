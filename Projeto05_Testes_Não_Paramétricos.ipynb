{
  "nbformat": 4,
  "nbformat_minor": 0,
  "metadata": {
    "colab": {
      "provenance": [],
      "authorship_tag": "ABX9TyO64Bhv5impM6eWmVcnkOAg",
      "include_colab_link": true
    },
    "kernelspec": {
      "name": "python3",
      "display_name": "Python 3"
    },
    "language_info": {
      "name": "python"
    }
  },
  "cells": [
    {
      "cell_type": "markdown",
      "metadata": {
        "id": "view-in-github",
        "colab_type": "text"
      },
      "source": [
        "<a href=\"https://colab.research.google.com/github/netinhojunnior/meu_portfolio/blob/main/Projeto05_Testes_N%C3%A3o_Param%C3%A9tricos.ipynb\" target=\"_parent\"><img src=\"https://colab.research.google.com/assets/colab-badge.svg\" alt=\"Open In Colab\"/></a>"
      ]
    },
    {
      "cell_type": "markdown",
      "source": [
        "# **Testes Não-Paramétricos**"
      ],
      "metadata": {
        "id": "lS_aVaqsem7J"
      }
    },
    {
      "cell_type": "markdown",
      "source": [
        "## **📌 Introdução**\n",
        "\n",
        "Os testes estatísticos não-paramétricos são ferramentas fundamentais quando os dados não atendem às suposições necessárias para a aplicação de testes paramétricos, como a normalidade ou homogeneidade de variâncias. Estes métodos são amplamente utilizados em análises com dados categóricos, ordinais ou quando a amostra é pequena.\n",
        "\n",
        "Neste notebook, exploramos diversos testes não-paramétricos clássicos, organizados por suas aplicações: testes de normalidade, testes para amostras dependentes e independentes, além de medidas de associação. Cada teste é apresentado com uma breve fundamentação teórica, aplicação prática com código e interpretação dos resultados."
      ],
      "metadata": {
        "id": "NUj81X2geu_j"
      }
    },
    {
      "cell_type": "markdown",
      "source": [
        "**🎯 Objetivo**\n",
        "\n",
        "O objetivo deste notebook é:\n",
        "\n",
        "✅ Apresentar conceitos fundamentais sobre testes não-paramétricos.\n",
        "\n",
        "✅ Demonstrar a aplicação prática desses testes com Python, utilizando a biblioteca scipy.stats.\n",
        "\n",
        "✅ Orientar sobre a interpretação dos resultados para auxiliar na tomada de decisão estatística em contextos reais de análise de dados."
      ],
      "metadata": {
        "id": "eoPMJPTqezDI"
      }
    },
    {
      "cell_type": "markdown",
      "source": [
        "**Observação:** Para a interpretação dos resultados, adotaremos um p-valor igual a 0.05"
      ],
      "metadata": {
        "id": "C89IBiYdt0f_"
      }
    },
    {
      "cell_type": "code",
      "execution_count": 1,
      "metadata": {
        "id": "ykBWsUv-egHG"
      },
      "outputs": [],
      "source": [
        "# Carregando bibliotecas\n",
        "\n",
        "import numpy as np\n",
        "from scipy import stats\n",
        "import statsmodels.api as sm\n",
        "from statsmodels.stats.contingency_tables import mcnemar"
      ]
    },
    {
      "cell_type": "markdown",
      "source": [
        "### ✅ **Testes de Normalidade**"
      ],
      "metadata": {
        "id": "lwIA9WLJkF-k"
      }
    },
    {
      "cell_type": "code",
      "source": [
        "# Gerando uma amostra\n",
        "\n",
        "np.random.seed(42)\n",
        "sample = np.random.normal(loc = 0,\n",
        "                          scale = 1,\n",
        "                          size = 100)"
      ],
      "metadata": {
        "id": "FMzRZs_al-71"
      },
      "execution_count": 2,
      "outputs": []
    },
    {
      "cell_type": "markdown",
      "source": [
        "#### 📌 **Teste de Kolmogorov-Smirnov**\n",
        "\n",
        "**O que é:**\n",
        "- Testa se uma amostra segue uma distribuição específica, normalmente a normal.\n",
        "\n",
        "**Quando usar:**  \n",
        "- Verificar se uma amostra segue uma distribuição específica (ex.: normal).  \n",
        "- Ideal para amostras contínuas.\n",
        "\n",
        "**Hipóteses:**  \n",
        "- H0: A amostra segue a distribuição especificada.  \n",
        "- H1: A amostra não segue a distribuição especificada."
      ],
      "metadata": {
        "id": "KkB0-mVlkJjR"
      }
    },
    {
      "cell_type": "code",
      "source": [
        "# Teste de K-S comparando com distribuição normal\n",
        "ks_statistic, ks_p_value = stats.kstest(sample, 'norm')\n",
        "\n",
        "# Imprimindo resultado\n",
        "print(f'p-valor: {ks_p_value:.4f}')"
      ],
      "metadata": {
        "colab": {
          "base_uri": "https://localhost:8080/"
        },
        "id": "Vc6doTi6kxnd",
        "outputId": "1cd5d8a1-a4cf-4ce5-886e-d7cba5453626"
      },
      "execution_count": 3,
      "outputs": [
        {
          "output_type": "stream",
          "name": "stdout",
          "text": [
            "p-valor: 0.2181\n"
          ]
        }
      ]
    },
    {
      "cell_type": "markdown",
      "source": [
        "**Conclusão**\n",
        "\n",
        "<p align=\"justify\">\n",
        "O Teste de Kolmogorov-Smirnov (KS) resultou em um p-valor de 0.2181. Considerando um nível de significância de 0.05, como o p-valor obtido é maior que esse limite, não rejeitamos a hipótese nula. Assim, não há evidências suficientes para afirmar que a amostra não segue uma distribuição normal, ou seja, os dados podem ser considerados normalmente distribuídos."
      ],
      "metadata": {
        "id": "OMu3TeAYljJO"
      }
    },
    {
      "cell_type": "markdown",
      "source": [
        "#### 📌 **Teste de Jarque-Bera**\n",
        "\n",
        "**O que é:**\n",
        "- Testa a normalidade de uma variável com base em seus coeficientes de assimetria e curtose.\n",
        "\n",
        "**Quando usar:**  \n",
        "- Avaliar normalidade com base na **assimetria** e **curtose** da distribuição.\n",
        "\n",
        "**Hipóteses:**  \n",
        "- H0: A amostra segue uma distribuição normal.  \n",
        "- H1: A amostra não segue uma distribuição normal."
      ],
      "metadata": {
        "id": "F4NXeSASlpdT"
      }
    },
    {
      "cell_type": "code",
      "source": [
        "# Aplicando teste\n",
        "jb_stat, jb_p_value = stats.jarque_bera(sample)\n",
        "\n",
        "# Imprimindo resultado\n",
        "print(f'p-valor: {jb_p_value:.4f}')"
      ],
      "metadata": {
        "colab": {
          "base_uri": "https://localhost:8080/"
        },
        "id": "N4M7yuqGnJsY",
        "outputId": "8e6613eb-7847-4606-be85-28e08d3dd086"
      },
      "execution_count": 4,
      "outputs": [
        {
          "output_type": "stream",
          "name": "stdout",
          "text": [
            "p-valor: 0.7362\n"
          ]
        }
      ]
    },
    {
      "cell_type": "markdown",
      "source": [
        "**Conclusão**\n",
        "\n",
        "<p align=\"justify\">\n",
        "O Teste de Jarque-Bera resultou em um p-valor de 0.7362. Considerando um nível de significância de 0.05, como o p-valor obtido é maior que esse limite, não rejeitamos a hipótese nula. Dessa forma, não há evidências suficientes para afirmar que a amostra não segue uma distribuição normal, indicando que os dados podem ser considerados normalmente distribuídos."
      ],
      "metadata": {
        "id": "bfxhx2OYnP_A"
      }
    },
    {
      "cell_type": "markdown",
      "source": [
        "###✅ **Testes para Amostras Dependentes**"
      ],
      "metadata": {
        "id": "-xI8IvaZneGb"
      }
    },
    {
      "cell_type": "markdown",
      "source": [
        "#### 📌 **Teste de McNemar**\n",
        "\n",
        "**O que é:**\n",
        "- Teste não paramétrico para comparar proporções em dados pareados.\n",
        "\n",
        "**Quando usar:**  \n",
        "- Avaliar diferenças entre **duas variáveis dependentes dicotômicas**.  \n",
        "- Muito utilizado em estudos clínicos ou antes/depois.\n",
        "\n",
        "**Hipóteses:**  \n",
        "- H0: As proporções são iguais.  \n",
        "- H1: As proporções são diferentes."
      ],
      "metadata": {
        "id": "AWcSdttBoGAI"
      }
    },
    {
      "cell_type": "code",
      "source": [
        "# Tabela de contingência\n",
        "table = np.array([[30, 10],\n",
        "                  [5,  55]])\n",
        "\n",
        "result = mcnemar(table, exact = True)\n",
        "\n",
        "# Imprimindo resultado\n",
        "print(f'p-valor: {result.pvalue:.4f}')"
      ],
      "metadata": {
        "colab": {
          "base_uri": "https://localhost:8080/"
        },
        "id": "TBm4Cv2io2Ik",
        "outputId": "f73b1f8c-2f31-44b9-d663-1e6450ed36d3"
      },
      "execution_count": 5,
      "outputs": [
        {
          "output_type": "stream",
          "name": "stdout",
          "text": [
            "p-valor: 0.3018\n"
          ]
        }
      ]
    },
    {
      "cell_type": "markdown",
      "source": [
        "**Conclusão:**\n",
        "\n",
        "<p align=\"justify\">\n",
        "O Teste de McNemar resultou em um p-valor de 0.3018. Considerando um nível de significância de 0.05, como o p-valor obtido é maior que esse limite, não rejeitamos a hipótese nula. Assim, não há evidências suficientes para afirmar que houve diferença significativa entre as proporções das amostras emparelhadas, indicando que os resultados antes e depois (ou entre os dois grupos dependentes analisados) são estatisticamente equivalentes."
      ],
      "metadata": {
        "id": "257Yi8vFpEXm"
      }
    },
    {
      "cell_type": "markdown",
      "source": [
        "#### 📌 **Teste de Friedman**\n",
        "\n",
        "**O que é:**\n",
        "- Teste não paramétrico para comparar proporções em dados pareados.\n",
        "\n",
        "**Quando usar:**  \n",
        "- Comparar **mais de dois grupos relacionados**.  \n",
        "- Ex.: medidas repetidas de um mesmo indivíduo.\n",
        "\n",
        "**Hipóteses:**  \n",
        "- H0: Não há diferenças entre os grupos.  \n",
        "- H1: Existem diferenças entre os grupos."
      ],
      "metadata": {
        "id": "eGq0_VcHpSqr"
      }
    },
    {
      "cell_type": "code",
      "source": [
        "# Aplicando teste\n",
        "\n",
        "## Simulando dados\n",
        "np.random.seed(0)\n",
        "grupo1 = np.random.rand(10)\n",
        "grupo2 = np.random.rand(10)\n",
        "grupo3 = np.random.rand(10)\n",
        "\n",
        "## Aplicando teste aos dados\n",
        "friedman_stat, friedman_p = stats.friedmanchisquare(grupo1, grupo2, grupo3)\n",
        "\n",
        "## Imprimindo resultado\n",
        "print(f'p-valor: {friedman_p:.4f}')"
      ],
      "metadata": {
        "colab": {
          "base_uri": "https://localhost:8080/"
        },
        "id": "Uwo796wvpm0g",
        "outputId": "b745d122-4d1d-4625-c735-e35d5b7aa96e"
      },
      "execution_count": 6,
      "outputs": [
        {
          "output_type": "stream",
          "name": "stdout",
          "text": [
            "p-valor: 0.4966\n"
          ]
        }
      ]
    },
    {
      "cell_type": "markdown",
      "source": [
        "**Conclusão:**\n",
        "\n",
        "<p align=\"justify\">\n",
        "O Teste de Friedman resultou em um p-valor de 0.4966. Considerando um nível de significância de 0.05, como o p-valor obtido é maior que esse limite, não rejeitamos a hipótese nula. Assim, não há evidências suficientes para afirmar que existem diferenças significativas entre os grupos comparados, indicando que os grupos dependentes analisados apresentam desempenhos estatisticamente equivalentes."
      ],
      "metadata": {
        "id": "5ilESoo1qGpJ"
      }
    },
    {
      "cell_type": "markdown",
      "source": [
        "### ✅ **Testes para Amostras Independentes**"
      ],
      "metadata": {
        "id": "L3FUGCJmqi6z"
      }
    },
    {
      "cell_type": "markdown",
      "source": [
        "#### 📌 **Teste Exato de Fisher**\n",
        "\n",
        "**O que é:**\n",
        "- Teste exato usado para tabelas de contingência 2x2.\n",
        "\n",
        "**Quando usar:**  \n",
        "- Analisar associação entre **duas variáveis categóricas** em tabelas pequenas (2x2).\n",
        "\n",
        "**Hipóteses:**  \n",
        "- H0: As variáveis são independentes.  \n",
        "- H1: Existe associação."
      ],
      "metadata": {
        "id": "80kNNyIzqmfM"
      }
    },
    {
      "cell_type": "code",
      "source": [
        "# Aplicação do Teste\n",
        "\n",
        "## Gerando Tabela de contingência\n",
        "table = np.array([[8, 2],\n",
        "                  [1, 5]])\n",
        "\n",
        "## Aplicando teste a tabela\n",
        "_, fisher_p = stats.fisher_exact(table)\n",
        "\n",
        "## Imprimindo resultado\n",
        "print(f'p-valor: {fisher_p:.4f}')"
      ],
      "metadata": {
        "colab": {
          "base_uri": "https://localhost:8080/"
        },
        "id": "hNfz6_AWrHe5",
        "outputId": "43296185-f7d1-4f76-e28f-25b1f8358caa"
      },
      "execution_count": 7,
      "outputs": [
        {
          "output_type": "stream",
          "name": "stdout",
          "text": [
            "p-valor: 0.0350\n"
          ]
        }
      ]
    },
    {
      "cell_type": "markdown",
      "source": [
        "**Conclusão:**\n",
        "\n",
        "<p align=\"justify\">\n",
        "O Teste Exato de Fisher resultou em um p-valor de 0.0350. Considerando um nível de significância de 0.05, como o p-valor obtido é menor que esse limite, rejeitamos a hipótese nula. Assim, há evidências suficientes para afirmar que existe uma associação significativa entre as categorias analisadas na tabela de contingência, indicando que as variáveis não são independentes."
      ],
      "metadata": {
        "id": "NGT105cWrVet"
      }
    },
    {
      "cell_type": "markdown",
      "source": [
        "#### 📌 **Teste Qui-Quadrado e Correção de Yates**"
      ],
      "metadata": {
        "id": "HzwQ2wO5rkFh"
      }
    },
    {
      "cell_type": "markdown",
      "source": [
        "**Teste Qui-Quadrado (χ²)**\n",
        "\n",
        "**O que é:**\n",
        "- Teste estatístico para avaliar a associação entre variáveis categóricas.\n",
        "\n",
        "**Quando usar:**\n",
        "- Com tabelas de contingência maiores e amostras grandes.\n",
        "\n",
        "**Teste Qui-Quadrado com Correção de Yates**\n",
        "\n",
        "**O que é:**\n",
        "- Versão ajustada do Qui-Quadrado para evitar superestimação em tabelas 2x2 com pequenas frequências.\n",
        "\n",
        "**Quando usar:**\n",
        "- Quando o número esperado em alguma célula da tabela é menor que 5."
      ],
      "metadata": {
        "id": "Y25ZlzKArqMN"
      }
    },
    {
      "cell_type": "code",
      "source": [
        "# Construindo Tabela de contingência\n",
        "table = np.array([[10, 20],\n",
        "                  [20, 40]])"
      ],
      "metadata": {
        "id": "IvGSoErQrpZP"
      },
      "execution_count": 8,
      "outputs": []
    },
    {
      "cell_type": "markdown",
      "source": [
        "**Teste de Qui-Quadrado**"
      ],
      "metadata": {
        "id": "LGM93nl9tL-P"
      }
    },
    {
      "cell_type": "code",
      "source": [
        "# Aplicação do Teste de Qui-Quadrado\n",
        "\n",
        "## Aplicando Teste\n",
        "chi2, p, dof, expected = stats.chi2_contingency(table, correction=False)\n",
        "\n",
        "## Imprimindo resultado\n",
        "print(f'p-valor: {p:.4f}')"
      ],
      "metadata": {
        "colab": {
          "base_uri": "https://localhost:8080/"
        },
        "id": "oSBor6sHsw_Z",
        "outputId": "8ce720c6-b7a0-4b5a-8316-1fa601b2af51"
      },
      "execution_count": 9,
      "outputs": [
        {
          "output_type": "stream",
          "name": "stdout",
          "text": [
            "p-valor: 1.0000\n"
          ]
        }
      ]
    },
    {
      "cell_type": "markdown",
      "source": [
        "**Conclusão:**\n",
        "\n",
        "<p align=\"justify\">\n",
        "O Teste Qui-Quadrado, aplicado sem a correção de Yates, resultou em um p-valor de 1.0000. Considerando um nível de significância de 0.05, como o p-valor é maior que esse limite, não rejeitamos a hipótese nula. Isso indica que não há evidências suficientes para afirmar que existe associação entre as variáveis analisadas na tabela, sugerindo independência entre elas."
      ],
      "metadata": {
        "id": "wH_DJen4tC1E"
      }
    },
    {
      "cell_type": "markdown",
      "source": [
        "**Teste de Qui-Quadrado com Correção de Yates**"
      ],
      "metadata": {
        "id": "BescZNYxtQc4"
      }
    },
    {
      "cell_type": "code",
      "source": [
        "# Aplicação do Teste\n",
        "\n",
        "## Aplicando teste\n",
        "chi2_yates, p_yates, _, _ = stats.chi2_contingency(table, correction=True)\n",
        "\n",
        "## Imprimindo resultado\n",
        "print(f'p-valor: {p_yates:.4f}')"
      ],
      "metadata": {
        "colab": {
          "base_uri": "https://localhost:8080/"
        },
        "id": "V6vJ2dKDtGZ9",
        "outputId": "dd8eb32f-605d-4404-f7fc-aa70e1d38d0f"
      },
      "execution_count": 10,
      "outputs": [
        {
          "output_type": "stream",
          "name": "stdout",
          "text": [
            "p-valor: 1.0000\n"
          ]
        }
      ]
    },
    {
      "cell_type": "markdown",
      "source": [
        "**Conclusão:**\n",
        "\n",
        "<p align=\"justify\">\n",
        "O Teste Qui-Quadrado com correção de Yates resultou em um p-valor de 1.0000. Considerando um nível de significância de 0.05, como o p-valor é maior que esse limite, não rejeitamos a hipótese nula. Assim, não há evidências suficientes para afirmar que existe uma associação entre as variáveis analisadas, indicando que elas podem ser consideradas estatisticamente independentes."
      ],
      "metadata": {
        "id": "mHvSumBgthdM"
      }
    },
    {
      "cell_type": "markdown",
      "source": [
        "### **✅ Testes Não Paramétricos de Comparação de Grupos**"
      ],
      "metadata": {
        "id": "fB46jbmdFRoL"
      }
    },
    {
      "cell_type": "markdown",
      "source": [
        "#### **📌 Teste de Wilcoxon**\n",
        "\n",
        "**O que é?**\n",
        "* Teste não paramétrico para comparar duas amostras dependentes.\n",
        "\n",
        "**Quando usar?**\n",
        "\n",
        "* Comparação de antes e depois em um mesmo grupo.\n",
        "* Quando os dados não seguem distribuição normal.\n",
        "\n",
        "**Hipóteses:**\n",
        "\n",
        "* H₀: não há diferença entre as medições.\n",
        "* H₁: há diferença significativa."
      ],
      "metadata": {
        "id": "gux_6apIFavg"
      }
    },
    {
      "cell_type": "code",
      "source": [
        "# Exemplo Prático\n",
        "\n",
        "## Carregando biblioteca\n",
        "from scipy.stats import wilcoxon\n",
        "\n",
        "## Simulando dados\n",
        "antes = np.random.exponential(scale=1, size=30)\n",
        "depois = antes + np.random.exponential(scale=0.5, size=30)\n",
        "\n",
        "## Aplicando teste\n",
        "_, p = wilcoxon(antes, depois)\n",
        "\n",
        "## Imprimindo resultado\n",
        "print(f'p-valor: {p:.4f}')"
      ],
      "metadata": {
        "colab": {
          "base_uri": "https://localhost:8080/"
        },
        "id": "QBKi1TubF2wd",
        "outputId": "4e009207-7c56-42f0-9cf1-5c714d633ef1"
      },
      "execution_count": 11,
      "outputs": [
        {
          "output_type": "stream",
          "name": "stdout",
          "text": [
            "p-valor: 0.0000\n"
          ]
        }
      ]
    },
    {
      "cell_type": "markdown",
      "source": [
        "**Conclusão:**\n",
        "\n",
        "<p align=\"justify\">\n",
        "O resultado obtido apresentou um p-valor igual a 0.0000, indicando uma diferença estatisticamente significativa entre os dois momentos. Sendo assim, rejeitamos a hipótese nula (H₀), que pressupunha a inexistência de diferença, e aceitamos a hipótese alternativa (H₁), que aponta para uma alteração relevante entre os grupos"
      ],
      "metadata": {
        "id": "LW2ToufkGHYy"
      }
    },
    {
      "cell_type": "markdown",
      "source": [
        "#### 📌 **Teste de Mann-Whitney**\n",
        "\n",
        "**O que é:**\n",
        "- Teste não paramétrico para comparar duas amostras independentes.\n",
        "\n",
        "**Quando usar:**  \n",
        "- Comparar **dois grupos independentes** com variáveis contínuas ou ordinais.  \n",
        "- Não assume normalidade.\n",
        "\n",
        "**Hipóteses:**  \n",
        "- H0: As distribuições são iguais.  \n",
        "- H1: São diferentes."
      ],
      "metadata": {
        "id": "Roi8xvyft1zi"
      }
    },
    {
      "cell_type": "code",
      "source": [
        "# Aplicação do Teste\n",
        "np.random.seed(0)\n",
        "\n",
        "## Gerando Grupos\n",
        "grupo_a = np.random.rand(20)\n",
        "grupo_b = np.random.rand(20)\n",
        "\n",
        "## Aplicando Teste\n",
        "u_stat, u_p = stats.mannwhitneyu(grupo_a,\n",
        "                                 grupo_b,\n",
        "                                 alternative = 'two-sided')\n",
        "\n",
        "## Imprimindo resultado\n",
        "print(f'p-valor: {u_p:.4f}')"
      ],
      "metadata": {
        "colab": {
          "base_uri": "https://localhost:8080/"
        },
        "id": "aYv79IlPuXq_",
        "outputId": "99a5ef56-acb4-4427-8e7f-9e025a4b5749"
      },
      "execution_count": 12,
      "outputs": [
        {
          "output_type": "stream",
          "name": "stdout",
          "text": [
            "p-valor: 0.9461\n"
          ]
        }
      ]
    },
    {
      "cell_type": "markdown",
      "source": [
        "**Conclusão:**\n",
        "\n",
        "<p align=\"justify\">\n",
        "O Teste de Mann-Whitney resultou em um p-valor de 0.9461. Considerando um nível de significância de 0.05, como o p-valor é muito maior que esse limite, não rejeitamos a hipótese nula. Isso indica que não há evidências suficientes para afirmar que existem diferenças significativas entre as duas amostras independentes analisadas, sugerindo que elas podem ter distribuições equivalentes."
      ],
      "metadata": {
        "id": "-wkImYYtuqMm"
      }
    },
    {
      "cell_type": "markdown",
      "source": [
        "#### 📌 **Teste de Kruskal-Wallis**\n",
        "\n",
        "**O que é:**\n",
        "- Extensão do Mann-Whitney para mais de duas amostras independentes.\n",
        "\n",
        "**Quando usar:**  \n",
        "- Comparar **mais de dois grupos independentes**.  \n",
        "- Alternativa não-paramétrica à ANOVA.\n",
        "\n",
        "**Hipóteses:**  \n",
        "- H0: As distribuições são iguais.  \n",
        "- H1: São diferentes."
      ],
      "metadata": {
        "id": "tbqtPwCnvEEn"
      }
    },
    {
      "cell_type": "code",
      "source": [
        "# Aplicação do Teste\n",
        "np.random.seed(0)\n",
        "\n",
        "## Gerando grupos\n",
        "grupo_x = np.random.rand(15)\n",
        "grupo_y = np.random.rand(15)\n",
        "grupo_z = np.random.rand(15)\n",
        "\n",
        "## Aplicando os testes\n",
        "kw_stat, kw_p = stats.kruskal(grupo_x, grupo_y, grupo_z)\n",
        "\n",
        "## Imprimindo resultado\n",
        "print(f'p-valor: {kw_p:.4f}')"
      ],
      "metadata": {
        "colab": {
          "base_uri": "https://localhost:8080/"
        },
        "id": "bA-sd7uruoI7",
        "outputId": "4ad23be5-99c7-4b15-f9c5-d5a62657d2a8"
      },
      "execution_count": 13,
      "outputs": [
        {
          "output_type": "stream",
          "name": "stdout",
          "text": [
            "p-valor: 0.7153\n"
          ]
        }
      ]
    },
    {
      "cell_type": "markdown",
      "source": [
        "**Conclusão:**\n",
        "\n",
        "<p align=\"justify\">\n",
        "O Teste de Kruskal-Wallis resultou em um p-valor de 0.7153. Considerando um nível de significância de 0.05, como o p-valor é maior que esse limite, não rejeitamos a hipótese nula. Assim, não há evidências suficientes para afirmar que existem diferenças significativas entre os grupos independentes analisados, indicando que os grupos podem ter distribuições semelhantes."
      ],
      "metadata": {
        "id": "0I0sPVselxW9"
      }
    },
    {
      "cell_type": "markdown",
      "source": [
        "### ✅ **Medidas de Correlação**"
      ],
      "metadata": {
        "id": "UwMxzQ0dwCPv"
      }
    },
    {
      "cell_type": "markdown",
      "source": [
        "#### 📌 **Coeficiente C de Contingência**\n",
        "\n",
        "**O que é:**\n",
        "- Medida de associação entre variáveis categóricas baseada na estatística Qui-Quadrado.\n",
        "\n",
        "**Quando usar:**  \n",
        "- Medir grau de associação entre **duas variáveis categóricas**."
      ],
      "metadata": {
        "id": "yhv6RO2XwsSk"
      }
    },
    {
      "cell_type": "code",
      "source": [
        "# Aplicação do Teste\n",
        "\n",
        "## Aplicando teste de qui-quadrado\n",
        "chi2, _, _, _ = stats.chi2_contingency(table)\n",
        "n = table.sum()\n",
        "\n",
        "## Fórmula e aplicação do Coeficiente\n",
        "C = np.sqrt(chi2 / (chi2 + n))\n",
        "\n",
        "## Imprimindo resultado\n",
        "print(f'Coeficiente C: {C:.4f}')"
      ],
      "metadata": {
        "colab": {
          "base_uri": "https://localhost:8080/"
        },
        "id": "ulgdRr11v--c",
        "outputId": "bae99cde-cd21-4234-dac1-6e164d21ccc9"
      },
      "execution_count": 14,
      "outputs": [
        {
          "output_type": "stream",
          "name": "stdout",
          "text": [
            "Coeficiente C: 0.0000\n"
          ]
        }
      ]
    },
    {
      "cell_type": "markdown",
      "source": [
        "**Conclusão:**\n",
        "\n",
        "<p align=\"justify\">\n",
        "O Coeficiente C resultou em um valor de 0.0000. Esse coeficiente é utilizado como uma medida de associação entre variáveis categóricas, derivado do teste Qui-Quadrado. A partir do resultado encontrado no teste, pode-se afirmar que não há associação significativa entre as variáveis analisadas, sugerindo independência entre elas."
      ],
      "metadata": {
        "id": "_9sBxbjqmVia"
      }
    },
    {
      "cell_type": "markdown",
      "source": [
        "#### 📌 **Correlação de Spearman e Kendall**\n",
        "\n",
        "**Coeficiente de Correlação de Spearman (ρ)**\n",
        "\n",
        "**O que é:**\n",
        "- Medida não paramétrica de correlação entre duas variáveis ordinais ou contínuas.\n",
        "\n",
        "**Quando usar:**\n",
        "- Quando a relação entre variáveis é monotônica mas não necessariamente linear.\n",
        "\n",
        "**Coeficiente de Correlação de Kendall (τ)**\n",
        "\n",
        "**O que é:**\n",
        "- Medida não paramétrica de concordância entre rankings de duas variáveis.\n",
        "\n",
        "**Quando usar:**\n",
        "- Quando se trabalha com rankings ou pequenos conjuntos de dados ordinais.\n",
        "\n",
        "**Hipóteses:**  \n",
        "- H0: Não há correlação.  \n",
        "- H1: Existe correlação."
      ],
      "metadata": {
        "id": "BTeZdd8Yx8Kg"
      }
    },
    {
      "cell_type": "code",
      "source": [
        "# Gerando Dados correlacionados\n",
        "np.random.seed(0)\n",
        "x = np.arange(10)\n",
        "y = np.random.rand(10)"
      ],
      "metadata": {
        "id": "NbLiXlsmys4a"
      },
      "execution_count": 15,
      "outputs": []
    },
    {
      "cell_type": "code",
      "source": [
        "# Aplicando Teste de Spearman\n",
        "_, spearman_p = stats.spearmanr(x, y)\n",
        "\n",
        "# Imprimindo resultado\n",
        "print(f'p-valor: {spearman_p:.4f}')"
      ],
      "metadata": {
        "colab": {
          "base_uri": "https://localhost:8080/"
        },
        "id": "cJ8ihgTty2Qb",
        "outputId": "c322d0ce-bf69-4327-d76c-2bb557a725e1"
      },
      "execution_count": 16,
      "outputs": [
        {
          "output_type": "stream",
          "name": "stdout",
          "text": [
            "p-valor: 0.9338\n"
          ]
        }
      ]
    },
    {
      "cell_type": "markdown",
      "source": [
        "**Conclusão:**\n",
        "\n",
        "<p align=\"justify\">\n",
        "O Teste de Correlação de Spearman resultou em um p-valor de 0.9338. Considerando um nível de significância de 0.05, como o p-valor é bem maior que esse limite, não rejeitamos a hipótese nula de ausência de correlação. Assim, não há evidências suficientes para afirmar que existe uma associação monotônica significativa entre as duas variáveis analisadas."
      ],
      "metadata": {
        "id": "wqR2A5M9m-wu"
      }
    },
    {
      "cell_type": "code",
      "source": [
        "# Aplicando Teste de Kendall\n",
        "_, kendall_p = stats.kendalltau(x, y)\n",
        "\n",
        "# Imprimindo resultado\n",
        "print(f'p-valor: {kendall_p:.4f}')"
      ],
      "metadata": {
        "colab": {
          "base_uri": "https://localhost:8080/"
        },
        "id": "IrYzl0-TzDef",
        "outputId": "982488b1-0f87-4432-bfd2-19c4b57690f4"
      },
      "execution_count": 17,
      "outputs": [
        {
          "output_type": "stream",
          "name": "stdout",
          "text": [
            "p-valor: 1.0000\n"
          ]
        }
      ]
    },
    {
      "cell_type": "markdown",
      "source": [
        "**Conclusão:**\n",
        "\n",
        "<p align=\"justify\">\n",
        "O Teste de Correlação de Kendall resultou em um p-valor de 1.0000. Considerando um nível de significância de 0.05, como o p-valor é extremamente maior que esse limite, não rejeitamos a hipótese nula de ausência de correlação. Portanto, não há evidências suficientes para afirmar que existe uma associação monotônica significativa entre as variáveis analisadas."
      ],
      "metadata": {
        "id": "9SgN3Qb50mrY"
      }
    },
    {
      "cell_type": "markdown",
      "source": [
        "## **✅ Considerações Finais**\n",
        "\n",
        "Este notebook apresentou diversas técnicas não-paramétricas para testes de hipóteses e medidas de associação, reforçando sua importância na análise de dados que não seguem os pressupostos clássicos da estatística paramétrica.\n",
        "\n",
        "➡️ Vantagens:\n",
        "\n",
        "* Maior robustez frente a violações de premissas como normalidade e homocedasticidade.\n",
        "\n",
        "* Flexibilidade para lidar com dados ordinais e pequenos tamanhos amostrais.\n",
        "\n",
        "➡️ Limitações:\n",
        "\n",
        "* Geralmente possuem menor poder estatístico quando comparados aos testes paramétricos.\n",
        "\n",
        "* Podem apresentar dificuldade de interpretação para públicos não familiarizados.\n",
        "\n",
        "Boas práticas recomendadas:\n",
        "\n",
        "✔️ Verificar as premissas e características dos dados antes de escolher o teste.\n",
        "\n",
        "✔️ Complementar a análise estatística com representações gráficas adequadas.\n",
        "\n",
        "✔️ Reportar não apenas o resultado do teste, mas também medidas de tamanho do efeito e intervalos de confiança sempre que possível.\n",
        "\n",
        "---\n",
        "**Autor:** [Rivaldo Correia Santos Júnior]\n",
        "\n",
        "**LinkedIn:** [https://www.linkedin.com/in/rivaldo-correia/]"
      ],
      "metadata": {
        "id": "xH4yKHBgzjCz"
      }
    }
  ]
}