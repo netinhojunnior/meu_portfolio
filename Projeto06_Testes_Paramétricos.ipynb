{
  "nbformat": 4,
  "nbformat_minor": 0,
  "metadata": {
    "colab": {
      "provenance": [],
      "authorship_tag": "ABX9TyMi4Vi5Iryp1CJUackIn2NC"
    },
    "kernelspec": {
      "name": "python3",
      "display_name": "Python 3"
    },
    "language_info": {
      "name": "python"
    }
  },
  "cells": [
    {
      "cell_type": "markdown",
      "source": [
        "# **📊 Testes Paramétricos: O que são, quando usar e aplicações práticas**"
      ],
      "metadata": {
        "id": "J1w_fxvl5G5x"
      }
    },
    {
      "cell_type": "markdown",
      "source": [
        "## **✅ Introdução**\n",
        "\n",
        "<p align=\"justify\">\n",
        "Os testes paramétricos são procedimentos estatísticos utilizados para realizar inferências sobre os dados quando certas premissas são atendidas — principalmente a de que os dados seguem uma distribuição normal e apresentam homogeneidade de variâncias.\n",
        "\n",
        "<p align=\"justify\">\n",
        "São considerados mais poderosos que os testes não paramétricos, pois aproveitam ao máximo as informações contidas nos dados. Por isso, são amplamente usados nas áreas de saúde, ciências sociais, engenharia e negócios para tomar decisões baseadas em evidências."
      ],
      "metadata": {
        "id": "SsAY_t8C5WFo"
      }
    },
    {
      "cell_type": "markdown",
      "source": [
        "**🎯 Objetivo deste material:**\n",
        "\n",
        "* Apresentar os principais testes paramétricos;\n",
        "\n",
        "* Explicar o que são, quando utilizar e suas hipóteses;\n",
        "\n",
        "* Demonstrar a aplicação prática com exemplos reais utilizando Python.\n",
        "\n",
        "**✅ Categorias de Testes Paramétricos Abordadas:**\n",
        "\n",
        "1. Testes para comparação de médias\n",
        "\n",
        "2. Testes para verificação de normalidade\n",
        "\n",
        "3. Testes para variância e homogeneidade"
      ],
      "metadata": {
        "id": "94HoAOl65buT"
      }
    },
    {
      "cell_type": "markdown",
      "source": [
        "## **✅ 1. Testes para Comparação de Médias**\n",
        "\n",
        "Quando queremos comparar grupos para saber se há diferença significativa nas médias, recorremos a esses testes."
      ],
      "metadata": {
        "id": "sCaaC9wV6d8i"
      }
    },
    {
      "cell_type": "markdown",
      "source": [
        "### **🔹 Teste t de Student**\n",
        "\n",
        "O clássico e mais conhecido dos testes paramétricos, o teste t de Student permite comparar médias de uma ou mais amostras.\n",
        "\n",
        "Existem três variações importantes:"
      ],
      "metadata": {
        "id": "VyM_M8zv6sYe"
      }
    },
    {
      "cell_type": "markdown",
      "source": [
        "#### **➡️ Teste t para uma amostra**\n",
        "\n",
        "**O que é?**\n",
        "\n",
        "É um teste estatístico que avalia se a média de uma amostra é estatisticamente diferente de um valor conhecido ou teórico. Ele ajuda a verificar se uma determinada característica medida em um grupo pode ser generalizada ou se ocorreu apenas por acaso.\n",
        "\n",
        "**Quando usar?**\n",
        "\n",
        "Quando quiser saber se a média de um grupo está diferente de um valor esperado.\n",
        "\n",
        "**Exemplo:**\n",
        "\n",
        "* Comparar o rendimento médio de um time com a meta estipulada.\n",
        "* Verificar se o colesterol médio de uma população está dentro ou fora do recomendado pela OMS.\n",
        "\n",
        "**Hipóteses:**\n",
        "\n",
        "* H₀: a média da amostra é igual ao valor de referência.\n",
        "* H₁: a média da amostra é diferente do valor de referência."
      ],
      "metadata": {
        "id": "UNbDYnOC669t"
      }
    },
    {
      "cell_type": "code",
      "execution_count": null,
      "metadata": {
        "id": "mvYdEyqQ475H",
        "colab": {
          "base_uri": "https://localhost:8080/"
        },
        "outputId": "0a2dd48d-cc1e-45bc-c705-ac1f21495a85"
      },
      "outputs": [
        {
          "output_type": "stream",
          "name": "stdout",
          "text": [
            "p-valor: 0.7781\n"
          ]
        }
      ],
      "source": [
        "# Exemplo Prático\n",
        "\n",
        "## Carregando bibliotecas\n",
        "import numpy as np\n",
        "from scipy.stats import ttest_1samp\n",
        "\n",
        "## Fixando semente e gerando dados\n",
        "np.random.seed(0)\n",
        "dados = np.random.normal(50, 10, 30)\n",
        "\n",
        "## Aplicando o teste\n",
        "stat, p = ttest_1samp(dados, popmean = 55)\n",
        "\n",
        "## Exibindo o resultado\n",
        "print(f'p-valor: {p:.4f}')"
      ]
    },
    {
      "cell_type": "markdown",
      "source": [
        "**Conclusão:**\n",
        "\n",
        "<p align=\"justify\">\n",
        "O Teste t para uma amostra resultou em um p-valor de 0.7781. Considerando um nível de significância de 0.05, como o p-valor obtido é maior que esse limite, não rejeitamos a hipótese nula. Assim, não há evidências suficientes para afirmar que a média da amostra difere do valor de referência de 55. Portanto, com base nos dados analisados, a média pode ser considerada estatisticamente igual ao valor proposto."
      ],
      "metadata": {
        "id": "UoeO-9AO8Vd4"
      }
    },
    {
      "cell_type": "markdown",
      "source": [
        "#### **➡️ Teste t para duas amostras independentes**\n",
        "\n",
        "**O que é?**\n",
        "\n",
        "É um teste estatístico que avalia se existe uma diferença significativa entre as médias de dois grupos que não possuem qualquer relação ou dependência entre si. Esse teste considera que as variâncias dos grupos podem ou não ser iguais, conforme verificado previamente.\n",
        "\n",
        "**Quando usar?**\n",
        "\n",
        "Quando se deseja comparar o desempenho, comportamento ou características de dois grupos distintos e independentes. Por exemplo:\n",
        "\n",
        "* Comparar a produtividade de duas equipes que atuam em setores diferentes.\n",
        "* Verificar se homens e mulheres apresentam médias diferentes de IMC (Índice de Massa Corporal).\n",
        "\n",
        "**Hipóteses:**\n",
        "\n",
        "* H₀: as médias são iguais.\n",
        "* H₁: as médias são diferentes."
      ],
      "metadata": {
        "id": "J7W7_owR8ZBQ"
      }
    },
    {
      "cell_type": "code",
      "source": [
        "# Exemplo Prático\n",
        "\n",
        "## Carregando biblioteca\n",
        "from scipy.stats import ttest_ind\n",
        "\n",
        "## Gerando grupos de dados\n",
        "grupo1 = np.random.normal(100, 15, 30)\n",
        "grupo2 = np.random.normal(110, 15, 30)\n",
        "\n",
        "## Aplicando o teste\n",
        "stat, p = ttest_ind(grupo1, grupo2)\n",
        "\n",
        "## Exibindo resultado\n",
        "print(f'p-valor: {p:.4f}')"
      ],
      "metadata": {
        "id": "N8EjzvLQ8xxW",
        "colab": {
          "base_uri": "https://localhost:8080/"
        },
        "outputId": "48b0a5f3-7589-4ce4-bc39-93ba70c62bcb"
      },
      "execution_count": null,
      "outputs": [
        {
          "output_type": "stream",
          "name": "stdout",
          "text": [
            "p-valor: 0.0013\n"
          ]
        }
      ]
    },
    {
      "cell_type": "markdown",
      "source": [
        "**Conclusão:**\n",
        "\n",
        "<p align=\"justify\">\n",
        "O Teste t para duas amostras independentes resultou em um p-valor de 0.0013. Considerando um nível de significância de 0.05, como o p-valor obtido é menor que esse limite, rejeitamos a hipótese nula. Assim, há evidências suficientes para afirmar que as médias dos dois grupos são significativamente diferentes. Portanto, com base nos dados analisados, podemos concluir que existe uma diferença estatística entre os grupos comparados."
      ],
      "metadata": {
        "id": "1_3b1Dg09Cjz"
      }
    },
    {
      "cell_type": "markdown",
      "source": [
        "#### **➡️ Teste t pareado (para amostras dependentes)**\n",
        "\n",
        "**O que é?**\n",
        "\n",
        "É um teste estatístico que compara as médias de duas medições relacionadas, verificando se houve diferença significativa entre elas. Muito usado em cenários de \"antes e depois\", onde as mesmas unidades (pessoas, objetos ou sistemas) são avaliadas em dois momentos ou condições.\n",
        "\n",
        "**Quando usar?**\n",
        "\n",
        "Quando se quer avaliar mudanças causadas por uma intervenção ou tratamento sobre o mesmo grupo ou elemento. Exemplo:\n",
        "\n",
        "* Avaliar o efeito de um treinamento no desempenho dos funcionários comparando notas antes e depois.\n",
        "* Testar a eficácia de um medicamento medindo a pressão arterial antes e após o uso.\n",
        "\n",
        "**Hipóteses:**\n",
        "\n",
        "* H₀: não há diferença entre as médias das duas medições (efeito nulo).\n",
        "* H₁: há uma diferença significativa entre as médias (efeito presente).\n",
        "\n"
      ],
      "metadata": {
        "id": "mfm8W3ri9LcC"
      }
    },
    {
      "cell_type": "code",
      "source": [
        "# Exemplo Prático\n",
        "\n",
        "## Carregando biblioteca\n",
        "from scipy.stats import ttest_rel\n",
        "\n",
        "## Gerando dados\n",
        "antes = np.random.normal(120, 10, 30)\n",
        "depois = antes + np.random.normal(0, 5, 30)\n",
        "\n",
        "## Aplicando teste\n",
        "stat, p = ttest_rel(antes, depois)\n",
        "\n",
        "## Imprimindo resultado\n",
        "print(f'p-valor: {p:.4f}')"
      ],
      "metadata": {
        "id": "uIdojyXi9qke",
        "colab": {
          "base_uri": "https://localhost:8080/"
        },
        "outputId": "e1a60df4-eee6-4ee0-dc38-6054cd337347"
      },
      "execution_count": null,
      "outputs": [
        {
          "output_type": "stream",
          "name": "stdout",
          "text": [
            "p-valor: 0.5739\n"
          ]
        }
      ]
    },
    {
      "cell_type": "markdown",
      "source": [
        "**Conclusão:**\n",
        "\n",
        "<p align=\"justify\">\n",
        "O Teste t pareado resultou em um p-valor de 0.5739. Considerando um nível de significância de 0.05, como o p-valor obtido é maior que esse limite, não rejeitamos a hipótese nula. Assim, não há evidências suficientes para afirmar que há uma diferença significativa entre as médias das medições antes e depois. Portanto, com base nos dados analisados, podemos concluir que não foi identificada uma diferença estatisticamente significativa entre as duas condições comparadas."
      ],
      "metadata": {
        "id": "bI-X6xJC988I"
      }
    },
    {
      "cell_type": "markdown",
      "source": [
        "### **🔹 ANOVA (Análise de Variância)**\n",
        "\n",
        "Quando se deseja comparar mais de dois grupos, o teste t não é mais suficiente. Para isso, usamos a ANOVA."
      ],
      "metadata": {
        "id": "tzVxMNWu-L49"
      }
    },
    {
      "cell_type": "markdown",
      "source": [
        "#### **➡️ ANOVA One-Way**\n",
        "\n",
        "**O que é?**\n",
        "\n",
        "É uma análise estatística que verifica se existe diferença significativa entre as médias de três ou mais grupos independentes. Ao invés de realizar múltiplos testes t (o que aumentaria o risco de erro), a ANOVA concentra tudo em uma única análise, indicando se ao menos um grupo se diferencia dos demais.\n",
        "\n",
        "**Quando usar?**\n",
        "\n",
        "Quando se deseja comparar mais de dois grupos que não possuem relação entre si. Exemplos:\n",
        "\n",
        "* Comparar o desempenho de várias turmas escolares em uma mesma prova.\n",
        "* Avaliar a eficácia de diferentes tratamentos médicos aplicados a grupos distintos de pacientes.\n",
        "\n",
        "**Hipóteses:**\n",
        "\n",
        "* H₀: todas as médias populacionais são iguais (não há diferença significativa).\n",
        "* H₁: ao menos uma das médias é diferente das demais."
      ],
      "metadata": {
        "id": "TUr0zAw8-TM7"
      }
    },
    {
      "cell_type": "code",
      "source": [
        "# Exemplo Prático\n",
        "\n",
        "## Carregando biblioteca\n",
        "from scipy.stats import f_oneway\n",
        "\n",
        "## Gerando grupos de dados\n",
        "grupoA = np.random.normal(50, 5, 30)\n",
        "grupoB = np.random.normal(55, 5, 30)\n",
        "grupoC = np.random.normal(60, 5, 30)\n",
        "\n",
        "## Aplicando o teste\n",
        "stat, p = f_oneway(grupoA, grupoB, grupoC)\n",
        "\n",
        "## Imprimindo resultado\n",
        "print(f'p-valor: {p:.4f}')"
      ],
      "metadata": {
        "id": "aRtgze3Z-lUS",
        "colab": {
          "base_uri": "https://localhost:8080/"
        },
        "outputId": "ebb50594-228e-4b82-803a-d5cff590441d"
      },
      "execution_count": null,
      "outputs": [
        {
          "output_type": "stream",
          "name": "stdout",
          "text": [
            "p-valor: 0.0000\n"
          ]
        }
      ]
    },
    {
      "cell_type": "markdown",
      "source": [
        "**Conclusão:**\n",
        "\n",
        "<p align=\"justify\">\n",
        "O Teste ANOVA (Análise de Variância) resultou em um p-valor de 0.0000. Considerando um nível de significância de 0.05, como o p-valor obtido é menor que esse limite, rejeitamos a hipótese nula. Assim, há evidências suficientes para afirmar que pelo menos uma das médias dos grupos analisados é significativamente diferente. Portanto, com base nos dados, podemos concluir que existe uma diferença estatisticamente significativa entre as médias dos grupos comparados."
      ],
      "metadata": {
        "id": "-eNvp5-s-2hy"
      }
    },
    {
      "cell_type": "markdown",
      "source": [
        "### **➡️ ANOVA Two-Way**\n",
        "\n",
        "**O que é?**\n",
        "\n",
        "É uma técnica estatística que investiga o impacto simultâneo de dois fatores (ou variáveis independentes) sobre uma variável dependente. Além de analisar os efeitos isolados de cada fator, também verifica se há interação entre eles — ou seja, se a combinação dos fatores produz um efeito diferente do que cada um causaria isoladamente.\n",
        "\n",
        "**Quando usar?**\n",
        "\n",
        "Quando se deseja compreender como dois aspectos influenciam um resultado, separadamente e em conjunto. Exemplo:\n",
        "\n",
        "* Estudar o impacto de dieta e exercício físico na perda de peso.\n",
        "* Avaliar o efeito de duas metodologias de ensino em diferentes turmas escolares.\n",
        "\n",
        "**Hipóteses:**\n",
        "\n",
        "* H₀: não há efeito significativo de nenhum dos fatores nem da interação entre eles.\n",
        "* H₁: há efeito significativo de pelo menos um fator ou da interação."
      ],
      "metadata": {
        "id": "lB0A1xYk_SvB"
      }
    },
    {
      "cell_type": "code",
      "source": [
        "# Exemplo Prático\n",
        "\n",
        "## Carregando bibliotecas\n",
        "import pandas as pd\n",
        "import statsmodels.api as sm\n",
        "from statsmodels.formula.api import ols\n",
        "\n",
        "## Construindo DataFrame\n",
        "df = pd.DataFrame({\n",
        "    'fator1': np.repeat(['A', 'B'], 30),\n",
        "    'fator2': np.tile(['X', 'Y'], 30),\n",
        "    'resposta': np.random.normal(50, 10, 60)\n",
        "})\n",
        "\n",
        "## Aplicando teste\n",
        "modelo = ols('resposta ~ C(fator1) * C(fator2)', data = df).fit()\n",
        "anova_twoway = sm.stats.anova_lm(modelo, typ = 2)\n",
        "\n",
        "## Imprimindo resultado\n",
        "print(anova_twoway)"
      ],
      "metadata": {
        "id": "bXCF0SlR_xMN",
        "colab": {
          "base_uri": "https://localhost:8080/"
        },
        "outputId": "fe88df25-acc2-4866-a21e-6affc6944ae6"
      },
      "execution_count": null,
      "outputs": [
        {
          "output_type": "stream",
          "name": "stdout",
          "text": [
            "                          sum_sq    df         F    PR(>F)\n",
            "C(fator1)             377.657558   1.0  3.747750  0.057933\n",
            "C(fator2)              63.178663   1.0  0.626964  0.431812\n",
            "C(fator1):C(fator2)    21.400242   1.0  0.212369  0.646702\n",
            "Residual             5643.071771  56.0       NaN       NaN\n"
          ]
        }
      ]
    },
    {
      "cell_type": "markdown",
      "source": [
        "**Conclusão:**\n",
        "\n",
        "O Teste ANOVA Two-way apresentou os seguintes resultados:\n",
        "\n",
        "* Para o fator 1, o p-valor foi de 0.0579;\n",
        "\n",
        "* Para o fator 2, o p-valor foi de 0.4318;\n",
        "\n",
        "* Para a interação entre os fatores, o p-valor foi de 0.6467.\n",
        "\n",
        "Considerando um nível de significância de 0.05:\n",
        "\n",
        "* Para o fator 1: o p-valor é maior que 0.05, portanto não rejeitamos a hipótese nula. Não há evidências suficientes para afirmar que o fator 1 tem efeito significativo sobre a variável resposta.\n",
        "\n",
        "* Para o fator 2: o p-valor também é maior que 0.05, logo não rejeitamos a hipótese nula. Não há evidências de que o fator 2 tenha efeito significativo.\n",
        "\n",
        "* Para a interação: o p-valor novamente é maior que 0.05, indicando que não há evidências suficientes de interação significativa entre os fatores.\n",
        "\n",
        "Assim, com base nos dados analisados, não foram encontradas diferenças estatisticamente significativas associadas aos fatores ou à interação entre eles."
      ],
      "metadata": {
        "id": "8TEIdJzVAIMS"
      }
    },
    {
      "cell_type": "markdown",
      "source": [
        "### **✅ 2. Testes de Normalidade**\n",
        "\n",
        "Antes de aplicar testes paramétricos, é essencial verificar se os dados seguem distribuição normal."
      ],
      "metadata": {
        "id": "lw-JrAdBAiTn"
      }
    },
    {
      "cell_type": "markdown",
      "source": [
        "#### **🔹 Teste de Shapiro-Wilk**\n",
        "\n",
        "**O que é?**\n",
        "\n",
        "É um dos testes estatísticos mais utilizados para verificar se uma amostra de dados segue uma distribuição normal. Ele avalia a aderência dos dados à curva normal, sendo especialmente recomendado para amostras pequenas a moderadas.\n",
        "\n",
        "**Quando usar?**\n",
        "\n",
        "Sempre que for necessário verificar a suposição de normalidade antes de aplicar testes paramétricos, como o teste t ou a ANOVA. Exemplo:\n",
        "\n",
        "* Checar se os tempos de reação seguem distribuição normal antes de aplicar um teste t.\n",
        "* Validar a normalidade de notas escolares antes de realizar uma ANOVA.\n",
        "\n",
        "**Hipóteses:**\n",
        "\n",
        "* H₀: os dados seguem uma distribuição normal.\n",
        "* H₁: os dados não seguem uma distribuição normal."
      ],
      "metadata": {
        "id": "pwUFvJHaAzAC"
      }
    },
    {
      "cell_type": "code",
      "source": [
        "# Exemplo Prático\n",
        "\n",
        "## Carregando biblioteca\n",
        "from scipy.stats import shapiro\n",
        "\n",
        "## Aplicando teste\n",
        "stat, p = shapiro(dados)\n",
        "\n",
        "## Imprimindo resultado\n",
        "print(f'p-valor: {p:.4f}')"
      ],
      "metadata": {
        "id": "A_dZtueaBA9a",
        "colab": {
          "base_uri": "https://localhost:8080/"
        },
        "outputId": "b684b93d-05fe-47d8-dd6d-10a6d8c19394"
      },
      "execution_count": null,
      "outputs": [
        {
          "output_type": "stream",
          "name": "stdout",
          "text": [
            "p-valor: 0.5254\n"
          ]
        }
      ]
    },
    {
      "cell_type": "markdown",
      "source": [
        "**Conclusão:**\n",
        "\n",
        "<p align=\"justify\">\n",
        "O Teste de Shapiro-Wilk resultou em um p-valor de 0.5254. Considerando um nível de significância de 0.05, como o p-valor obtido é maior que esse limite, não rejeitamos a hipótese nula. Assim, não há evidências suficientes para afirmar que a amostra não segue uma distribuição normal, ou seja, os dados podem ser considerados normalmente distribuídos."
      ],
      "metadata": {
        "id": "QR9HMDL8BQEh"
      }
    },
    {
      "cell_type": "markdown",
      "source": [
        "#### **🔹 Teste de Anderson-Darling**\n",
        "\n",
        "**O que é?**\n",
        "\n",
        "É um teste estatístico robusto para avaliar se uma amostra segue uma distribuição específica, geralmente a normal. Diferente de outros testes, ele dá mais peso às caudas da distribuição, tornando-se sensível a desvios nessas regiões.\n",
        "\n",
        "**Quando usar?**\n",
        "\n",
        "Quando se deseja uma avaliação mais rigorosa da normalidade, especialmente em análises onde desvios nas extremidades dos dados podem impactar os resultados.* Exemplo:\n",
        "\n",
        "* Verificar se os resíduos de um modelo seguem distribuição normal.\n",
        "* Checar normalidade em estudos financeiros, onde caudas extremas são importantes.\n",
        "\n",
        "Hipóteses:\n",
        "\n",
        "* H₀: os dados seguem a distribuição especificada (normal, na maioria dos casos).\n",
        "* H₁: os dados não seguem a distribuição especificada."
      ],
      "metadata": {
        "id": "Tj4CruoLBfrK"
      }
    },
    {
      "cell_type": "code",
      "source": [
        "# Exemplo Prático\n",
        "\n",
        "## Carregando biblioteca\n",
        "from scipy.stats import anderson\n",
        "\n",
        "## Aplicando teste\n",
        "result = anderson(dados)\n",
        "\n",
        "## Imprimindo resultado\n",
        "print(f'Estatística: {result.statistic:.4f}')\n",
        "print('Críticos:', result.critical_values)"
      ],
      "metadata": {
        "id": "JCG7XLvbBtcg",
        "colab": {
          "base_uri": "https://localhost:8080/"
        },
        "outputId": "1ab94336-4b0c-4279-efb2-b7898520fe6b"
      },
      "execution_count": null,
      "outputs": [
        {
          "output_type": "stream",
          "name": "stdout",
          "text": [
            "Estatística: 0.2627\n",
            "Críticos: [0.521 0.593 0.712 0.83  0.988]\n"
          ]
        }
      ]
    },
    {
      "cell_type": "markdown",
      "source": [
        "**Conclusão:**\n",
        "\n",
        "<p align=\"justify\">\n",
        "O Teste de Anderson-Darling resultou em uma estatística de 0.2627, enquanto os valores críticos para os níveis de significância comuns são [0.521, 0.593, 0.712, 0.83, 0.988]. Como a estatística obtida é menor que o valor crítico para o nível de 0.05 (0.712), não rejeitamos a hipótese nula. Dessa forma, não há evidências suficientes para afirmar que a amostra não segue uma distribuição normal, ou seja, os dados podem ser considerados normalmente distribuídos."
      ],
      "metadata": {
        "id": "ux5dB98oB6Lj"
      }
    },
    {
      "cell_type": "markdown",
      "source": [
        "### **✅ 3. Testes para Variância e Homogeneidade**\n",
        "\n",
        "Outra premissa importante para testes paramétricos é a homogeneidade das variâncias entre grupos."
      ],
      "metadata": {
        "id": "zFpgtXBbCCt1"
      }
    },
    {
      "cell_type": "markdown",
      "source": [
        "#### **🔹 Teste F para igualdade de variâncias**\n",
        "\n",
        "**O que é?**\n",
        "\n",
        "É um teste estatístico que compara as variâncias de dois grupos, verificando se elas podem ser consideradas estatisticamente iguais. Ele é frequentemente utilizado como pré-requisito antes de testes que assumem homogeneidade de variância, como o teste t para duas amostras independentes.*\n",
        "\n",
        "**Quando usar?**\n",
        "\n",
        "Quando é necessário verificar se dois grupos apresentam a mesma variabilidade.* Exemplos:\n",
        "\n",
        "* Antes de aplicar um teste t para duas amostras independentes.\n",
        "* Ao comparar a consistência de desempenho entre dois times ou produtos.\n",
        "\n",
        "**Hipóteses:**\n",
        "\n",
        "* H₀: as variâncias dos dois grupos são iguais.\n",
        "* H₁: as variâncias dos dois grupos são diferentes."
      ],
      "metadata": {
        "id": "2adpnVG_CKNg"
      }
    },
    {
      "cell_type": "code",
      "source": [
        "# Exemplo Prático\n",
        "\n",
        "## Gerando dados\n",
        "var1 = np.var(grupo1, ddof=1)\n",
        "var2 = np.var(grupo2, ddof=1)\n",
        "\n",
        "## Calculando valor de F\n",
        "F = var1 / var2\n",
        "\n",
        "## Imprimindo resultado\n",
        "print(f'Estatística F: {F:.4f}')"
      ],
      "metadata": {
        "id": "4roF81N4CeLr",
        "colab": {
          "base_uri": "https://localhost:8080/"
        },
        "outputId": "0a6df826-92cf-4b9d-f6b6-ef7bfc01f05e"
      },
      "execution_count": null,
      "outputs": [
        {
          "output_type": "stream",
          "name": "stdout",
          "text": [
            "Estatística F: 0.8975\n"
          ]
        }
      ]
    },
    {
      "cell_type": "markdown",
      "source": [
        "**Conclusão:**\n",
        "\n",
        "<p align=\"justify\">\n",
        "O cálculo da estatística F para comparação das variâncias dos dois grupos resultou em 0.8975. Considerando que valores próximos de 1 indicam variâncias semelhantes entre os grupos, este resultado sugere que não há diferença significativa entre as variâncias das amostras analisadas.\n"
      ],
      "metadata": {
        "id": "BGYw9U2a2mkf"
      }
    },
    {
      "cell_type": "markdown",
      "source": [
        "#### **🔹 Teste de Levene**\n",
        "\n",
        "**O que é?**\n",
        "\n",
        "É um teste estatístico que avalia se diferentes grupos possuem variâncias iguais (homocedasticidade). É mais robusto do que o Teste F, pois é menos sensível à violação da suposição de normalidade.\n",
        "\n",
        "**Quando usar?**\n",
        "\n",
        "Antes de realizar testes que assumem homogeneidade de variância, especialmente quando há suspeita de que os dados não sejam normalmente distribuídos. Exemplos:\n",
        "\n",
        "* Comparar a variabilidade do desempenho entre várias equipes.\n",
        "* Avaliar se tratamentos diferentes têm a mesma dispersão de efeitos.\n",
        "\n",
        "**Hipóteses:**\n",
        "\n",
        "* H₀: as variâncias dos grupos são iguais.\n",
        "* H₁: as variâncias dos grupos são diferentes."
      ],
      "metadata": {
        "id": "cVSEjx6PCtMX"
      }
    },
    {
      "cell_type": "code",
      "source": [
        "# Exemplo Prático\n",
        "\n",
        "## Carregando biblioteca\n",
        "from scipy.stats import levene\n",
        "\n",
        "## Aplicando teste\n",
        "_, p = levene(grupo1, grupo2)\n",
        "\n",
        "## Imprimindo resultado\n",
        "print(f'p-valor: {p:.4f}')"
      ],
      "metadata": {
        "id": "ryO5RyvuC4lz",
        "colab": {
          "base_uri": "https://localhost:8080/"
        },
        "outputId": "268c4bba-d8d4-400a-a5bf-28adc8a1cb4f"
      },
      "execution_count": null,
      "outputs": [
        {
          "output_type": "stream",
          "name": "stdout",
          "text": [
            "p-valor: 0.4982\n"
          ]
        }
      ]
    },
    {
      "cell_type": "markdown",
      "source": [
        "**Conclusão:**\n",
        "\n",
        "<p align=\"justify\">\n",
        "O teste de Levene para igualdade de variâncias resultou em um p-valor de 0.4982. Considerando um nível de significância de 0.05, como o p-valor obtido é maior que esse limite, não rejeitamos a hipótese nula. Assim, não há evidências suficientes para afirmar que as variâncias dos grupos são diferentes, indicando que as variâncias podem ser consideradas homogêneas."
      ],
      "metadata": {
        "id": "sZXOLvQ0Dps9"
      }
    },
    {
      "cell_type": "markdown",
      "source": [
        "# **✅ Considerações Finais**\n",
        "\n",
        "✅ Os testes paramétricos são ferramentas fundamentais para quem quer realizar análises estatísticas com rigor.\n",
        "\n",
        "✅ Eles oferecem maior poder estatístico, mas exigem que as premissas sejam respeitadas: normalidade, homocedasticidade e independência.\n",
        "\n",
        "✅ Sempre que possível, complemente sua análise com gráficos (histogramas, boxplots) e os testes.\n",
        "\n",
        "📌 Lembre-se: se as premissas não forem atendidas, opte por testes não paramétricos, como Mann-Whitney, Wilcoxon ou Kruskal-Wallis.\n",
        "\n",
        "---\n",
        "**Autor:** Rivaldo Correia Santos Júnior\n",
        "\n",
        "**LinkedIn:** [https://www.linkedin.com/in/rivaldo-correia/]"
      ],
      "metadata": {
        "id": "d7A7kk-9DtyJ"
      }
    }
  ]
}